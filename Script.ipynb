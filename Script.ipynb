{
  "nbformat": 4,
  "nbformat_minor": 0,
  "metadata": {
    "colab": {
      "provenance": [],
      "mount_file_id": "1lo5UNzNPmNpc4xDjKVv2lITSLjIVUtzW",
      "authorship_tag": "ABX9TyNPD/nctrWjYWeR0MDvVAVl",
      "include_colab_link": true
    },
    "kernelspec": {
      "name": "python3",
      "display_name": "Python 3"
    },
    "language_info": {
      "name": "python"
    }
  },
  "cells": [
    {
      "cell_type": "markdown",
      "metadata": {
        "id": "view-in-github",
        "colab_type": "text"
      },
      "source": [
        "<a href=\"https://colab.research.google.com/github/qngyn/BigData_Project1/blob/main/Script.ipynb\" target=\"_parent\"><img src=\"https://colab.research.google.com/assets/colab-badge.svg\" alt=\"Open In Colab\"/></a>"
      ]
    },
    {
      "cell_type": "code",
      "execution_count": 5,
      "metadata": {
        "colab": {
          "base_uri": "https://localhost:8080/"
        },
        "id": "0LXJGkVQ28ul",
        "outputId": "5c911eef-123f-4734-edff-0c988fafe0d5"
      },
      "outputs": [
        {
          "output_type": "stream",
          "name": "stdout",
          "text": [
            "Looking in indexes: https://pypi.org/simple, https://us-python.pkg.dev/colab-wheels/public/simple/\n",
            "Collecting pyspark\n",
            "  Downloading pyspark-3.3.0.tar.gz (281.3 MB)\n",
            "\u001b[K     |████████████████████████████████| 281.3 MB 38 kB/s \n",
            "\u001b[?25hCollecting py4j==0.10.9.5\n",
            "  Downloading py4j-0.10.9.5-py2.py3-none-any.whl (199 kB)\n",
            "\u001b[K     |████████████████████████████████| 199 kB 38.8 MB/s \n",
            "\u001b[?25hBuilding wheels for collected packages: pyspark\n",
            "  Building wheel for pyspark (setup.py) ... \u001b[?25l\u001b[?25hdone\n",
            "  Created wheel for pyspark: filename=pyspark-3.3.0-py2.py3-none-any.whl size=281764026 sha256=ed139763009077e48c8ca0202923c55a9df7bcfc372b7d899f3af0c5613696d3\n",
            "  Stored in directory: /root/.cache/pip/wheels/7a/8e/1b/f73a52650d2e5f337708d9f6a1750d451a7349a867f928b885\n",
            "Successfully built pyspark\n",
            "Installing collected packages: py4j, pyspark\n",
            "Successfully installed py4j-0.10.9.5 pyspark-3.3.0\n"
          ]
        }
      ],
      "source": [
        "pip install pyspark"
      ]
    },
    {
      "cell_type": "code",
      "source": [
        "pip install pyodbc "
      ],
      "metadata": {
        "colab": {
          "base_uri": "https://localhost:8080/"
        },
        "id": "cXg85eaL4kK9",
        "outputId": "b2c5df9a-d02e-4703-cbc5-684dc3b11535"
      },
      "execution_count": 6,
      "outputs": [
        {
          "output_type": "stream",
          "name": "stdout",
          "text": [
            "Looking in indexes: https://pypi.org/simple, https://us-python.pkg.dev/colab-wheels/public/simple/\n",
            "Collecting pyodbc\n",
            "  Downloading pyodbc-4.0.34-cp37-cp37m-manylinux_2_24_x86_64.whl (472 kB)\n",
            "\u001b[K     |████████████████████████████████| 472 kB 7.1 MB/s \n",
            "\u001b[?25hInstalling collected packages: pyodbc\n",
            "Successfully installed pyodbc-4.0.34\n"
          ]
        }
      ]
    },
    {
      "cell_type": "code",
      "source": [
        "from pyspark.sql import SparkSession\n",
        "from pyspark.sql import SQLContext\n",
        "from pyspark.sql.functions import *\n",
        "from pyspark.sql.types import *\n",
        "import pyodbc \n",
        "import pandas as pd \n",
        "import pyspark.sql.functions as sf "
      ],
      "metadata": {
        "id": "SQlkJkvU3iLa"
      },
      "execution_count": 7,
      "outputs": []
    },
    {
      "cell_type": "code",
      "source": [
        "spark = SparkSession.builder.config('spark.driver.memory', '16g').getOrCreate()"
      ],
      "metadata": {
        "id": "25FIVPAS37tF"
      },
      "execution_count": 8,
      "outputs": []
    },
    {
      "cell_type": "code",
      "source": [
        "from google.colab import drive\n",
        "drive.mount('/content/drive')"
      ],
      "metadata": {
        "colab": {
          "base_uri": "https://localhost:8080/"
        },
        "id": "WGwAIPja4Fll",
        "outputId": "f7d50713-8d6e-48bc-b53e-117cfaf5faf5"
      },
      "execution_count": 9,
      "outputs": [
        {
          "output_type": "stream",
          "name": "stdout",
          "text": [
            "Drive already mounted at /content/drive; to attempt to forcibly remount, call drive.mount(\"/content/drive\", force_remount=True).\n"
          ]
        }
      ]
    },
    {
      "cell_type": "code",
      "source": [
        "path ='/content/drive/MyDrive/Dataset/20220401.json'"
      ],
      "metadata": {
        "id": "AY0eWyw-4FdU"
      },
      "execution_count": 1,
      "outputs": []
    },
    {
      "cell_type": "code",
      "source": [
        "df = spark.read.json(path)"
      ],
      "metadata": {
        "id": "CKyA98V_5Q1r"
      },
      "execution_count": 11,
      "outputs": []
    },
    {
      "cell_type": "code",
      "source": [
        "df.printSchema()"
      ],
      "metadata": {
        "colab": {
          "base_uri": "https://localhost:8080/"
        },
        "id": "2gfVEx437dOP",
        "outputId": "e9ffc4ef-69b7-4345-b827-840798404a41"
      },
      "execution_count": 12,
      "outputs": [
        {
          "output_type": "stream",
          "name": "stdout",
          "text": [
            "root\n",
            " |-- _id: string (nullable = true)\n",
            " |-- _index: string (nullable = true)\n",
            " |-- _score: long (nullable = true)\n",
            " |-- _source: struct (nullable = true)\n",
            " |    |-- AppName: string (nullable = true)\n",
            " |    |-- Contract: string (nullable = true)\n",
            " |    |-- Mac: string (nullable = true)\n",
            " |    |-- TotalDuration: long (nullable = true)\n",
            " |-- _type: string (nullable = true)\n",
            "\n"
          ]
        }
      ]
    },
    {
      "cell_type": "code",
      "source": [
        "df = df.select('_source.AppName', '_source.Contract', '_source.Mac', '_source.TotalDuration')"
      ],
      "metadata": {
        "id": "WctU4zTm8OwD"
      },
      "execution_count": 13,
      "outputs": []
    },
    {
      "cell_type": "code",
      "source": [
        "df.show()"
      ],
      "metadata": {
        "colab": {
          "base_uri": "https://localhost:8080/"
        },
        "id": "6CeryGOp8iKr",
        "outputId": "e7a09a1b-86c9-4ab8-8e86-6e9947ef353f"
      },
      "execution_count": 14,
      "outputs": [
        {
          "output_type": "stream",
          "name": "stdout",
          "text": [
            "+-------+---------+------------+-------------+\n",
            "|AppName| Contract|         Mac|TotalDuration|\n",
            "+-------+---------+------------+-------------+\n",
            "|  KPLUS|HNH579912|0C96E62FC55C|          254|\n",
            "|  KPLUS|HUFD40665|CCEDDC333614|         1457|\n",
            "|  KPLUS|HNH572635|B068E6A1C5F6|         2318|\n",
            "|  KPLUS|HND141717|08674EE8D2C2|         1452|\n",
            "|  KPLUS|HNH743103|402343C25D7D|          251|\n",
            "|  KPLUS|HNH893773|B84DEE76D3B8|          924|\n",
            "|  KPLUS|HND083642|B84DEE849A0F|         1444|\n",
            "|  KPLUS|DNFD74404|90324BB44C39|          691|\n",
            "|  KPLUS|DTFD21200|B84DEED27709|         1436|\n",
            "|  KPLUS|LDFD05747|0C96E6C95E53|         1434|\n",
            "|  KPLUS|HNH063566|B84DEEDD1C85|          687|\n",
            "|  KPLUS|HNH866786|10394E2790A5|          248|\n",
            "|  KPLUS|NBAAA1128|10394E47C1AF|          247|\n",
            "|  KPLUS|HNH960439|B84DEED34371|          683|\n",
            "|  KPLUS|HNJ035736|CCD4A1FA86A5|          246|\n",
            "|  KPLUS|NTFD93673|B84DEEEF4763|         2288|\n",
            "|  KPLUS|HNJ063267|10394E172CA7|         2282|\n",
            "|  KPLUS|HNH790383|4CEBBD53378B|          906|\n",
            "|  KPLUS|THFD12466|5CEA1D893E1C|          242|\n",
            "|  KPLUS|HNH566080|802BF9E0DDC0|          242|\n",
            "+-------+---------+------------+-------------+\n",
            "only showing top 20 rows\n",
            "\n"
          ]
        }
      ]
    },
    {
      "cell_type": "code",
      "source": [
        "df.withColumn('Date', lit('2022-04-01')).show(10)"
      ],
      "metadata": {
        "colab": {
          "base_uri": "https://localhost:8080/"
        },
        "id": "H5QU7J9X8lUL",
        "outputId": "53c67805-6618-440e-f0fa-c2daf03cc8da"
      },
      "execution_count": 15,
      "outputs": [
        {
          "output_type": "stream",
          "name": "stdout",
          "text": [
            "+-------+---------+------------+-------------+----------+\n",
            "|AppName| Contract|         Mac|TotalDuration|      Date|\n",
            "+-------+---------+------------+-------------+----------+\n",
            "|  KPLUS|HNH579912|0C96E62FC55C|          254|2022-04-01|\n",
            "|  KPLUS|HUFD40665|CCEDDC333614|         1457|2022-04-01|\n",
            "|  KPLUS|HNH572635|B068E6A1C5F6|         2318|2022-04-01|\n",
            "|  KPLUS|HND141717|08674EE8D2C2|         1452|2022-04-01|\n",
            "|  KPLUS|HNH743103|402343C25D7D|          251|2022-04-01|\n",
            "|  KPLUS|HNH893773|B84DEE76D3B8|          924|2022-04-01|\n",
            "|  KPLUS|HND083642|B84DEE849A0F|         1444|2022-04-01|\n",
            "|  KPLUS|DNFD74404|90324BB44C39|          691|2022-04-01|\n",
            "|  KPLUS|DTFD21200|B84DEED27709|         1436|2022-04-01|\n",
            "|  KPLUS|LDFD05747|0C96E6C95E53|         1434|2022-04-01|\n",
            "+-------+---------+------------+-------------+----------+\n",
            "only showing top 10 rows\n",
            "\n"
          ]
        }
      ]
    },
    {
      "cell_type": "code",
      "source": [
        "df.count() ##Check how many rows in raw data "
      ],
      "metadata": {
        "colab": {
          "base_uri": "https://localhost:8080/"
        },
        "id": "J94vtpny8zIV",
        "outputId": "fa76b9a7-dffb-49ff-cf31-a4bc7e0ba6d7"
      },
      "execution_count": 20,
      "outputs": [
        {
          "output_type": "execute_result",
          "data": {
            "text/plain": [
              "1654519"
            ]
          },
          "metadata": {},
          "execution_count": 20
        }
      ]
    },
    {
      "cell_type": "code",
      "source": [
        "df.select('Mac').distinct().count() ##Check how many unique rows"
      ],
      "metadata": {
        "colab": {
          "base_uri": "https://localhost:8080/"
        },
        "id": "xk00XnG79KNN",
        "outputId": "95be71b4-fe04-4879-f402-085d259fe03d"
      },
      "execution_count": 19,
      "outputs": [
        {
          "output_type": "execute_result",
          "data": {
            "text/plain": [
              "1498169"
            ]
          },
          "metadata": {},
          "execution_count": 19
        }
      ]
    },
    {
      "cell_type": "code",
      "source": [
        "df.select('AppName').distinct(). show()"
      ],
      "metadata": {
        "colab": {
          "base_uri": "https://localhost:8080/"
        },
        "id": "1tw9CAVZ9ZCd",
        "outputId": "8c5bab0a-bba6-4da0-d3ed-2bc9614927e6"
      },
      "execution_count": 21,
      "outputs": [
        {
          "output_type": "stream",
          "name": "stdout",
          "text": [
            "+-------+\n",
            "|AppName|\n",
            "+-------+\n",
            "|  KPLUS|\n",
            "|  RELAX|\n",
            "|  CHILD|\n",
            "|   FIMS|\n",
            "|CHANNEL|\n",
            "|  SPORT|\n",
            "|    VOD|\n",
            "+-------+\n",
            "\n"
          ]
        }
      ]
    },
    {
      "cell_type": "code",
      "source": [
        "df.select('Contract').distinct().count()"
      ],
      "metadata": {
        "colab": {
          "base_uri": "https://localhost:8080/"
        },
        "id": "bdyxLqUr9juZ",
        "outputId": "271d27c7-118f-411c-cc26-916d8a462ba6"
      },
      "execution_count": 22,
      "outputs": [
        {
          "output_type": "execute_result",
          "data": {
            "text/plain": [
              "1360622"
            ]
          },
          "metadata": {},
          "execution_count": 22
        }
      ]
    },
    {
      "cell_type": "code",
      "source": [],
      "metadata": {
        "id": "o8nPJzwg9ziL"
      },
      "execution_count": null,
      "outputs": []
    }
  ]
}