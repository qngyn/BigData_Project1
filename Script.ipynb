{
  "nbformat": 4,
  "nbformat_minor": 0,
  "metadata": {
    "colab": {
      "provenance": [],
      "mount_file_id": "1lo5UNzNPmNpc4xDjKVv2lITSLjIVUtzW",
      "authorship_tag": "ABX9TyPkeeVqlK5A1TsiVFkqfibD",
      "include_colab_link": true
    },
    "kernelspec": {
      "name": "python3",
      "display_name": "Python 3"
    },
    "language_info": {
      "name": "python"
    }
  },
  "cells": [
    {
      "cell_type": "markdown",
      "metadata": {
        "id": "view-in-github",
        "colab_type": "text"
      },
      "source": [
        "<a href=\"https://colab.research.google.com/github/qngyn/BigData_Project1/blob/main/Script.ipynb\" target=\"_parent\"><img src=\"https://colab.research.google.com/assets/colab-badge.svg\" alt=\"Open In Colab\"/></a>"
      ]
    },
    {
      "cell_type": "code",
      "execution_count": 1,
      "metadata": {
        "colab": {
          "base_uri": "https://localhost:8080/"
        },
        "id": "0LXJGkVQ28ul",
        "outputId": "cdb1295a-4f6d-4838-c3c1-c5bac5a0e57c"
      },
      "outputs": [
        {
          "output_type": "stream",
          "name": "stdout",
          "text": [
            "Looking in indexes: https://pypi.org/simple, https://us-python.pkg.dev/colab-wheels/public/simple/\n",
            "Collecting pyspark\n",
            "  Downloading pyspark-3.3.0.tar.gz (281.3 MB)\n",
            "\u001b[K     |████████████████████████████████| 281.3 MB 49 kB/s \n",
            "\u001b[?25hCollecting py4j==0.10.9.5\n",
            "  Downloading py4j-0.10.9.5-py2.py3-none-any.whl (199 kB)\n",
            "\u001b[K     |████████████████████████████████| 199 kB 48.7 MB/s \n",
            "\u001b[?25hBuilding wheels for collected packages: pyspark\n",
            "  Building wheel for pyspark (setup.py) ... \u001b[?25l\u001b[?25hdone\n",
            "  Created wheel for pyspark: filename=pyspark-3.3.0-py2.py3-none-any.whl size=281764026 sha256=c295b378a3b4c86285874ddb7138caa1a457e797810ba5d22dd602884818a92f\n",
            "  Stored in directory: /root/.cache/pip/wheels/7a/8e/1b/f73a52650d2e5f337708d9f6a1750d451a7349a867f928b885\n",
            "Successfully built pyspark\n",
            "Installing collected packages: py4j, pyspark\n",
            "Successfully installed py4j-0.10.9.5 pyspark-3.3.0\n"
          ]
        }
      ],
      "source": [
        "pip install pyspark"
      ]
    },
    {
      "cell_type": "code",
      "source": [
        "pip install pyodbc "
      ],
      "metadata": {
        "colab": {
          "base_uri": "https://localhost:8080/"
        },
        "id": "cXg85eaL4kK9",
        "outputId": "242d9332-1154-4780-dadd-55818ff52d24"
      },
      "execution_count": 2,
      "outputs": [
        {
          "output_type": "stream",
          "name": "stdout",
          "text": [
            "Looking in indexes: https://pypi.org/simple, https://us-python.pkg.dev/colab-wheels/public/simple/\n",
            "Collecting pyodbc\n",
            "  Downloading pyodbc-4.0.34-cp37-cp37m-manylinux_2_24_x86_64.whl (472 kB)\n",
            "\u001b[K     |████████████████████████████████| 472 kB 4.0 MB/s \n",
            "\u001b[?25hInstalling collected packages: pyodbc\n",
            "Successfully installed pyodbc-4.0.34\n"
          ]
        }
      ]
    },
    {
      "cell_type": "code",
      "source": [
        "from pyspark.sql import SparkSession\n",
        "from pyspark.sql import SQLContext\n",
        "from pyspark.sql.functions import *\n",
        "from pyspark.sql.types import *\n",
        "import pyodbc \n",
        "import pandas as pd \n",
        "import pyspark.sql.functions as sf "
      ],
      "metadata": {
        "id": "SQlkJkvU3iLa"
      },
      "execution_count": 3,
      "outputs": []
    },
    {
      "cell_type": "code",
      "source": [
        "spark = SparkSession.builder.config('spark.driver.memory', '16g').getOrCreate()"
      ],
      "metadata": {
        "id": "25FIVPAS37tF"
      },
      "execution_count": 4,
      "outputs": []
    },
    {
      "cell_type": "code",
      "source": [
        "from google.colab import drive\n",
        "drive.mount('/content/drive')"
      ],
      "metadata": {
        "colab": {
          "base_uri": "https://localhost:8080/"
        },
        "id": "WGwAIPja4Fll",
        "outputId": "ce5ca0f7-1d3c-4487-8dc6-b8dc2eea5be2"
      },
      "execution_count": 5,
      "outputs": [
        {
          "output_type": "stream",
          "name": "stdout",
          "text": [
            "Drive already mounted at /content/drive; to attempt to forcibly remount, call drive.mount(\"/content/drive\", force_remount=True).\n"
          ]
        }
      ]
    },
    {
      "cell_type": "code",
      "source": [
        "def process_log_data(path,file_name,date):\n",
        "    df = spark.read.json(path+file_name)\n",
        "    df = df.select('_source.AppName','_source.Contract','_source.Mac','_source.TotalDuration')\n",
        "    df = df.withColumn('Date',lit(date))\n",
        "    df = df.withColumn('Type',\n",
        "                 when((col(\"AppName\") == 'CHANNEL') | (col(\"AppName\") =='DSHD')| (col(\"AppName\") =='KPLUS')| (col(\"AppName\") =='KPlus'), \"Truyền Hình\")\n",
        "          .when((col(\"AppName\") == 'VOD') | (col(\"AppName\") =='FIMS_RES')| (col(\"AppName\") =='BHD_RES')| \n",
        "                 (col(\"AppName\") =='VOD_RES')| (col(\"AppName\") =='FIMS')| (col(\"AppName\") =='BHD')| (col(\"AppName\") =='DANET'), \"Phim Truyện\")\n",
        "          .when((col(\"AppName\") == 'RELAX'), \"Giải Trí\")\n",
        "          .when((col(\"AppName\") == 'CHILD'), \"Thiếu Nhi\")\n",
        "          .when((col(\"AppName\") == 'SPORT'), \"Thể Thao\")\n",
        "          .otherwise(\"Error\"))\n",
        "    df = df.select('Contract','Type','TotalDuration','Date')\n",
        "    df = df.groupBy('Contract','Type','Date').agg({'TotalDuration':'sum'}).withColumnRenamed('sum(TotalDuration)','TotalDuration')\n",
        "    return df "
      ],
      "metadata": {
        "id": "DNZP7zpZXl-y"
      },
      "execution_count": 69,
      "outputs": []
    },
    {
      "cell_type": "code",
      "source": [
        "def main_task():\n",
        "    path = '/content/drive/MyDrive/Dataset/'\n",
        "    file_name = '20220401.json'\n",
        "    date = '2022-04-01'\n",
        "    df = process_log_data(path,file_name,date)\n",
        "    i = 2 \n",
        "    while i < 10:\n",
        "        file_name = '2022040{}.json'.format(i)\n",
        "        date = '2022-04-0{}'.format(i)\n",
        "        df1 = process_log_data(path,file_name,date)\n",
        "        df = df.union(df1)\n",
        "        i+= 1 \n",
        "    while i <= 30: \n",
        "        file_name = '202204{}.json'.format(i)\n",
        "        date = '2022-04-{}'.format(i)\n",
        "        df1 = process_log_data(path,file_name,date)\n",
        "        df = df.union(df1)\n",
        "        i += 1 \n",
        "    return df "
      ],
      "metadata": {
        "id": "011_vSMCkwU2"
      },
      "execution_count": 71,
      "outputs": []
    },
    {
      "cell_type": "code",
      "source": [
        "df = main_task()\n",
        "df = df.cache()"
      ],
      "metadata": {
        "id": "2y27a8n1mKFt"
      },
      "execution_count": 75,
      "outputs": []
    },
    {
      "cell_type": "code",
      "source": [
        "df.count()"
      ],
      "metadata": {
        "colab": {
          "base_uri": "https://localhost:8080/"
        },
        "id": "au6Bsls8mf78",
        "outputId": "4761589e-cc5b-462d-e1b5-ea22b6de2478"
      },
      "execution_count": 73,
      "outputs": [
        {
          "output_type": "execute_result",
          "data": {
            "text/plain": [
              "42010590"
            ]
          },
          "metadata": {},
          "execution_count": 73
        }
      ]
    },
    {
      "cell_type": "code",
      "source": [
        "df.select('Date').distinct().show()"
      ],
      "metadata": {
        "id": "29HhoqU2p2ma"
      },
      "execution_count": null,
      "outputs": []
    },
    {
      "cell_type": "code",
      "source": [
        "df.show()"
      ],
      "metadata": {
        "id": "eF0VGv_0p_ml"
      },
      "execution_count": null,
      "outputs": []
    }
  ]
}