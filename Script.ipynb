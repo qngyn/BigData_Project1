{
  "nbformat": 4,
  "nbformat_minor": 0,
  "metadata": {
    "colab": {
      "provenance": [],
      "mount_file_id": "1lo5UNzNPmNpc4xDjKVv2lITSLjIVUtzW",
      "authorship_tag": "ABX9TyNFXa2E4D65ZYVb/d7KV7gv",
      "include_colab_link": true
    },
    "kernelspec": {
      "name": "python3",
      "display_name": "Python 3"
    },
    "language_info": {
      "name": "python"
    }
  },
  "cells": [
    {
      "cell_type": "markdown",
      "metadata": {
        "id": "view-in-github",
        "colab_type": "text"
      },
      "source": [
        "<a href=\"https://colab.research.google.com/github/qngyn/BigData_Project1/blob/main/Script.ipynb\" target=\"_parent\"><img src=\"https://colab.research.google.com/assets/colab-badge.svg\" alt=\"Open In Colab\"/></a>"
      ]
    },
    {
      "cell_type": "code",
      "execution_count": 1,
      "metadata": {
        "colab": {
          "base_uri": "https://localhost:8080/"
        },
        "id": "0LXJGkVQ28ul",
        "outputId": "cdb1295a-4f6d-4838-c3c1-c5bac5a0e57c"
      },
      "outputs": [
        {
          "output_type": "stream",
          "name": "stdout",
          "text": [
            "Looking in indexes: https://pypi.org/simple, https://us-python.pkg.dev/colab-wheels/public/simple/\n",
            "Collecting pyspark\n",
            "  Downloading pyspark-3.3.0.tar.gz (281.3 MB)\n",
            "\u001b[K     |████████████████████████████████| 281.3 MB 49 kB/s \n",
            "\u001b[?25hCollecting py4j==0.10.9.5\n",
            "  Downloading py4j-0.10.9.5-py2.py3-none-any.whl (199 kB)\n",
            "\u001b[K     |████████████████████████████████| 199 kB 48.7 MB/s \n",
            "\u001b[?25hBuilding wheels for collected packages: pyspark\n",
            "  Building wheel for pyspark (setup.py) ... \u001b[?25l\u001b[?25hdone\n",
            "  Created wheel for pyspark: filename=pyspark-3.3.0-py2.py3-none-any.whl size=281764026 sha256=c295b378a3b4c86285874ddb7138caa1a457e797810ba5d22dd602884818a92f\n",
            "  Stored in directory: /root/.cache/pip/wheels/7a/8e/1b/f73a52650d2e5f337708d9f6a1750d451a7349a867f928b885\n",
            "Successfully built pyspark\n",
            "Installing collected packages: py4j, pyspark\n",
            "Successfully installed py4j-0.10.9.5 pyspark-3.3.0\n"
          ]
        }
      ],
      "source": [
        "pip install pyspark"
      ]
    },
    {
      "cell_type": "code",
      "source": [
        "pip install pyodbc "
      ],
      "metadata": {
        "colab": {
          "base_uri": "https://localhost:8080/"
        },
        "id": "cXg85eaL4kK9",
        "outputId": "242d9332-1154-4780-dadd-55818ff52d24"
      },
      "execution_count": 2,
      "outputs": [
        {
          "output_type": "stream",
          "name": "stdout",
          "text": [
            "Looking in indexes: https://pypi.org/simple, https://us-python.pkg.dev/colab-wheels/public/simple/\n",
            "Collecting pyodbc\n",
            "  Downloading pyodbc-4.0.34-cp37-cp37m-manylinux_2_24_x86_64.whl (472 kB)\n",
            "\u001b[K     |████████████████████████████████| 472 kB 4.0 MB/s \n",
            "\u001b[?25hInstalling collected packages: pyodbc\n",
            "Successfully installed pyodbc-4.0.34\n"
          ]
        }
      ]
    },
    {
      "cell_type": "code",
      "source": [
        "from pyspark.sql import SparkSession\n",
        "from pyspark.sql import SQLContext\n",
        "from pyspark.sql.functions import *\n",
        "from pyspark.sql.types import *\n",
        "import pyodbc \n",
        "import pandas as pd \n",
        "import pyspark.sql.functions as sf "
      ],
      "metadata": {
        "id": "SQlkJkvU3iLa"
      },
      "execution_count": 3,
      "outputs": []
    },
    {
      "cell_type": "code",
      "source": [
        "spark = SparkSession.builder.config('spark.driver.memory', '16g').getOrCreate()"
      ],
      "metadata": {
        "id": "25FIVPAS37tF"
      },
      "execution_count": 4,
      "outputs": []
    },
    {
      "cell_type": "code",
      "source": [
        "from google.colab import drive\n",
        "drive.mount('/content/drive')"
      ],
      "metadata": {
        "colab": {
          "base_uri": "https://localhost:8080/"
        },
        "id": "WGwAIPja4Fll",
        "outputId": "ce5ca0f7-1d3c-4487-8dc6-b8dc2eea5be2"
      },
      "execution_count": 5,
      "outputs": [
        {
          "output_type": "stream",
          "name": "stdout",
          "text": [
            "Drive already mounted at /content/drive; to attempt to forcibly remount, call drive.mount(\"/content/drive\", force_remount=True).\n"
          ]
        }
      ]
    },
    {
      "cell_type": "code",
      "source": [
        "def process_log_data(path, file_name, date):\n",
        "  df = spark.read.json(path+file_name)\n",
        "  df = df.select('_source.AppName', '_source.Contract', '_source.Mac', '_source.TotalDuration')\n",
        "  df = df.withColumn('Date', lit(date))\n",
        "  df = df.withColumn('Type',\n",
        "        when((col('AppName') == 'CHANNEL') | (col(\"AppName\") =='DSHD')| (col(\"AppName\") =='KPLUS')| (col(\"AppName\") =='KPlus'), \"Truyền Hình\")\n",
        "        .when((col(\"AppName\") == 'VOD') | (col(\"AppName\") =='FIMS_RES')| (col(\"AppName\") =='BHD_RES')| \n",
        "              (col(\"AppName\") =='VOD_RES')| (col(\"AppName\") =='FIMS')| (col(\"AppName\") =='BHD')| (col(\"AppName\") =='DANET'), \"Phim Truyện\")\n",
        "        .when((col(\"AppName\") == 'RELAX'), \"Giải Trí\")\n",
        "        .when((col(\"AppName\") == 'CHILD'), \"Thiếu Nhi\")\n",
        "        .when((col(\"AppName\") == 'SPORT'), \"Thể Thao\")\n",
        "        .otherwise(\"Error\"))\n",
        "  df.select('Contract', 'Type', 'TotalDuration', 'Date')\n",
        "  df.groupBy('Contract', 'Type', 'Date').agg({'TotalDuration':'sum'}).withColumnRenamed('sum(TotalDuration)', 'Total Durattion')\n",
        "  return df"
      ],
      "metadata": {
        "id": "DNZP7zpZXl-y"
      },
      "execution_count": 41,
      "outputs": []
    },
    {
      "cell_type": "code",
      "source": [
        "path ='/content/drive/MyDrive/Dataset/'\n",
        "file_name='20220401.json'\n",
        "date = '2022-04-01'\n",
        "df = process_log_data(path, file_name, date)"
      ],
      "metadata": {
        "id": "AY0eWyw-4FdU"
      },
      "execution_count": 42,
      "outputs": []
    },
    {
      "cell_type": "code",
      "source": [
        "df.show()"
      ],
      "metadata": {
        "colab": {
          "base_uri": "https://localhost:8080/"
        },
        "id": "vjMjuEIbZWnm",
        "outputId": "2938d3ae-ed10-46b5-8939-54c766216248"
      },
      "execution_count": 40,
      "outputs": [
        {
          "output_type": "stream",
          "name": "stdout",
          "text": [
            "+-------+---------+------------+-------------+----------+-----------+\n",
            "|AppName| Contract|         Mac|TotalDuration|      Date|       Type|\n",
            "+-------+---------+------------+-------------+----------+-----------+\n",
            "|  KPLUS|HNH579912|0C96E62FC55C|          254|2022-04-01|Truyền Hình|\n",
            "|  KPLUS|HUFD40665|CCEDDC333614|         1457|2022-04-01|Truyền Hình|\n",
            "|  KPLUS|HNH572635|B068E6A1C5F6|         2318|2022-04-01|Truyền Hình|\n",
            "|  KPLUS|HND141717|08674EE8D2C2|         1452|2022-04-01|Truyền Hình|\n",
            "|  KPLUS|HNH743103|402343C25D7D|          251|2022-04-01|Truyền Hình|\n",
            "|  KPLUS|HNH893773|B84DEE76D3B8|          924|2022-04-01|Truyền Hình|\n",
            "|  KPLUS|HND083642|B84DEE849A0F|         1444|2022-04-01|Truyền Hình|\n",
            "|  KPLUS|DNFD74404|90324BB44C39|          691|2022-04-01|Truyền Hình|\n",
            "|  KPLUS|DTFD21200|B84DEED27709|         1436|2022-04-01|Truyền Hình|\n",
            "|  KPLUS|LDFD05747|0C96E6C95E53|         1434|2022-04-01|Truyền Hình|\n",
            "|  KPLUS|HNH063566|B84DEEDD1C85|          687|2022-04-01|Truyền Hình|\n",
            "|  KPLUS|HNH866786|10394E2790A5|          248|2022-04-01|Truyền Hình|\n",
            "|  KPLUS|NBAAA1128|10394E47C1AF|          247|2022-04-01|Truyền Hình|\n",
            "|  KPLUS|HNH960439|B84DEED34371|          683|2022-04-01|Truyền Hình|\n",
            "|  KPLUS|HNJ035736|CCD4A1FA86A5|          246|2022-04-01|Truyền Hình|\n",
            "|  KPLUS|NTFD93673|B84DEEEF4763|         2288|2022-04-01|Truyền Hình|\n",
            "|  KPLUS|HNJ063267|10394E172CA7|         2282|2022-04-01|Truyền Hình|\n",
            "|  KPLUS|HNH790383|4CEBBD53378B|          906|2022-04-01|Truyền Hình|\n",
            "|  KPLUS|THFD12466|5CEA1D893E1C|          242|2022-04-01|Truyền Hình|\n",
            "|  KPLUS|HNH566080|802BF9E0DDC0|          242|2022-04-01|Truyền Hình|\n",
            "+-------+---------+------------+-------------+----------+-----------+\n",
            "only showing top 20 rows\n",
            "\n"
          ]
        }
      ]
    }
  ]
}