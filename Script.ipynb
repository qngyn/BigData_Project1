{
  "nbformat": 4,
  "nbformat_minor": 0,
  "metadata": {
    "colab": {
      "provenance": [],
      "mount_file_id": "1lo5UNzNPmNpc4xDjKVv2lITSLjIVUtzW",
      "authorship_tag": "ABX9TyNM8MHN0EwkENRbfI05kZNs",
      "include_colab_link": true
    },
    "kernelspec": {
      "name": "python3",
      "display_name": "Python 3"
    },
    "language_info": {
      "name": "python"
    }
  },
  "cells": [
    {
      "cell_type": "markdown",
      "metadata": {
        "id": "view-in-github",
        "colab_type": "text"
      },
      "source": [
        "<a href=\"https://colab.research.google.com/github/qngyn/BigData_Project1/blob/main/Script.ipynb\" target=\"_parent\"><img src=\"https://colab.research.google.com/assets/colab-badge.svg\" alt=\"Open In Colab\"/></a>"
      ]
    },
    {
      "cell_type": "code",
      "execution_count": 1,
      "metadata": {
        "colab": {
          "base_uri": "https://localhost:8080/"
        },
        "id": "0LXJGkVQ28ul",
        "outputId": "cdb1295a-4f6d-4838-c3c1-c5bac5a0e57c"
      },
      "outputs": [
        {
          "output_type": "stream",
          "name": "stdout",
          "text": [
            "Looking in indexes: https://pypi.org/simple, https://us-python.pkg.dev/colab-wheels/public/simple/\n",
            "Collecting pyspark\n",
            "  Downloading pyspark-3.3.0.tar.gz (281.3 MB)\n",
            "\u001b[K     |████████████████████████████████| 281.3 MB 49 kB/s \n",
            "\u001b[?25hCollecting py4j==0.10.9.5\n",
            "  Downloading py4j-0.10.9.5-py2.py3-none-any.whl (199 kB)\n",
            "\u001b[K     |████████████████████████████████| 199 kB 48.7 MB/s \n",
            "\u001b[?25hBuilding wheels for collected packages: pyspark\n",
            "  Building wheel for pyspark (setup.py) ... \u001b[?25l\u001b[?25hdone\n",
            "  Created wheel for pyspark: filename=pyspark-3.3.0-py2.py3-none-any.whl size=281764026 sha256=c295b378a3b4c86285874ddb7138caa1a457e797810ba5d22dd602884818a92f\n",
            "  Stored in directory: /root/.cache/pip/wheels/7a/8e/1b/f73a52650d2e5f337708d9f6a1750d451a7349a867f928b885\n",
            "Successfully built pyspark\n",
            "Installing collected packages: py4j, pyspark\n",
            "Successfully installed py4j-0.10.9.5 pyspark-3.3.0\n"
          ]
        }
      ],
      "source": [
        "pip install pyspark"
      ]
    },
    {
      "cell_type": "code",
      "source": [
        "pip install pyodbc "
      ],
      "metadata": {
        "colab": {
          "base_uri": "https://localhost:8080/"
        },
        "id": "cXg85eaL4kK9",
        "outputId": "242d9332-1154-4780-dadd-55818ff52d24"
      },
      "execution_count": 2,
      "outputs": [
        {
          "output_type": "stream",
          "name": "stdout",
          "text": [
            "Looking in indexes: https://pypi.org/simple, https://us-python.pkg.dev/colab-wheels/public/simple/\n",
            "Collecting pyodbc\n",
            "  Downloading pyodbc-4.0.34-cp37-cp37m-manylinux_2_24_x86_64.whl (472 kB)\n",
            "\u001b[K     |████████████████████████████████| 472 kB 4.0 MB/s \n",
            "\u001b[?25hInstalling collected packages: pyodbc\n",
            "Successfully installed pyodbc-4.0.34\n"
          ]
        }
      ]
    },
    {
      "cell_type": "code",
      "source": [
        "from pyspark.sql import SparkSession\n",
        "from pyspark.sql import SQLContext\n",
        "from pyspark.sql.functions import *\n",
        "from pyspark.sql.types import *\n",
        "import pyodbc \n",
        "import pandas as pd \n",
        "import pyspark.sql.functions as sf "
      ],
      "metadata": {
        "id": "SQlkJkvU3iLa"
      },
      "execution_count": 3,
      "outputs": []
    },
    {
      "cell_type": "code",
      "source": [
        "spark = SparkSession.builder.config('spark.driver.memory', '16g').getOrCreate()"
      ],
      "metadata": {
        "id": "25FIVPAS37tF"
      },
      "execution_count": 4,
      "outputs": []
    },
    {
      "cell_type": "code",
      "source": [
        "from google.colab import drive\n",
        "drive.mount('/content/drive')"
      ],
      "metadata": {
        "colab": {
          "base_uri": "https://localhost:8080/"
        },
        "id": "WGwAIPja4Fll",
        "outputId": "ce5ca0f7-1d3c-4487-8dc6-b8dc2eea5be2"
      },
      "execution_count": 5,
      "outputs": [
        {
          "output_type": "stream",
          "name": "stdout",
          "text": [
            "Drive already mounted at /content/drive; to attempt to forcibly remount, call drive.mount(\"/content/drive\", force_remount=True).\n"
          ]
        }
      ]
    },
    {
      "cell_type": "code",
      "source": [
        "def process_log_data(path,file_name,date):\n",
        "    df = spark.read.json(path+file_name)\n",
        "    df = df.select('_source.AppName','_source.Contract','_source.Mac','_source.TotalDuration')\n",
        "    df = df.withColumn('Date',lit(date))\n",
        "    df = df.withColumn('Type',\n",
        "                 when((col(\"AppName\") == 'CHANNEL') | (col(\"AppName\") =='DSHD')| (col(\"AppName\") =='KPLUS')| (col(\"AppName\") =='KPlus'), \"Truyền Hình\")\n",
        "          .when((col(\"AppName\") == 'VOD') | (col(\"AppName\") =='FIMS_RES')| (col(\"AppName\") =='BHD_RES')| \n",
        "                 (col(\"AppName\") =='VOD_RES')| (col(\"AppName\") =='FIMS')| (col(\"AppName\") =='BHD')| (col(\"AppName\") =='DANET'), \"Phim Truyện\")\n",
        "          .when((col(\"AppName\") == 'RELAX'), \"Giải Trí\")\n",
        "          .when((col(\"AppName\") == 'CHILD'), \"Thiếu Nhi\")\n",
        "          .when((col(\"AppName\") == 'SPORT'), \"Thể Thao\")\n",
        "          .otherwise(\"Error\"))\n",
        "    df = df.select('Contract','Type','TotalDuration','Date')\n",
        "    df = df.groupBy('Contract','Type','Date').agg({'TotalDuration':'sum'}).withColumnRenamed('sum(TotalDuration)','TotalDuration')\n",
        "    return df "
      ],
      "metadata": {
        "id": "DNZP7zpZXl-y"
      },
      "execution_count": 48,
      "outputs": []
    },
    {
      "cell_type": "code",
      "source": [
        "path ='/content/drive/MyDrive/Dataset/'\n",
        "file_name='20220401.json'\n",
        "date = '2022-04-01'\n",
        "df = process_log_data(path, file_name, date)"
      ],
      "metadata": {
        "id": "AY0eWyw-4FdU"
      },
      "execution_count": 49,
      "outputs": []
    },
    {
      "cell_type": "code",
      "source": [
        "df.show()"
      ],
      "metadata": {
        "colab": {
          "base_uri": "https://localhost:8080/"
        },
        "id": "vjMjuEIbZWnm",
        "outputId": "95619004-9355-458f-e488-05b81a180885"
      },
      "execution_count": 50,
      "outputs": [
        {
          "output_type": "stream",
          "name": "stdout",
          "text": [
            "+---------+-----------+----------+-------------+\n",
            "| Contract|       Type|      Date|TotalDuration|\n",
            "+---------+-----------+----------+-------------+\n",
            "|HNJ141458|Truyền Hình|2022-04-01|        47349|\n",
            "|SGJ147370|Truyền Hình|2022-04-01|        83331|\n",
            "|HNFD80728|Truyền Hình|2022-04-01|        91636|\n",
            "|SGH574803|Truyền Hình|2022-04-01|       113492|\n",
            "|NTFD92901|Truyền Hình|2022-04-01|        18944|\n",
            "|TBD015606|Phim Truyện|2022-04-01|        20586|\n",
            "|AGFD54302|Truyền Hình|2022-04-01|        11860|\n",
            "|SGH919014|Truyền Hình|2022-04-01|        55429|\n",
            "|NTFD63152|Truyền Hình|2022-04-01|        18886|\n",
            "|BTFD15886|Phim Truyện|2022-04-01|         6007|\n",
            "|HND095909|Phim Truyện|2022-04-01|        16441|\n",
            "|SGH209300|Truyền Hình|2022-04-01|        25527|\n",
            "|NND000787|Truyền Hình|2022-04-01|          175|\n",
            "|DNFD68426|Phim Truyện|2022-04-01|         3563|\n",
            "|CBFD05588|Truyền Hình|2022-04-01|        62005|\n",
            "|HTFD01984|Truyền Hình|2022-04-01|        81976|\n",
            "|GLD014406|Truyền Hình|2022-04-01|        81937|\n",
            "|DNAAA1260|Truyền Hình|2022-04-01|        18791|\n",
            "|HNAAA7079|Truyền Hình|2022-04-01|        23953|\n",
            "|NDFD27791|Phim Truyện|2022-04-01|         6621|\n",
            "+---------+-----------+----------+-------------+\n",
            "only showing top 20 rows\n",
            "\n"
          ]
        }
      ]
    },
    {
      "cell_type": "code",
      "source": [
        "df.count()"
      ],
      "metadata": {
        "colab": {
          "base_uri": "https://localhost:8080/"
        },
        "id": "DUO7LCGFZ8rl",
        "outputId": "ca25a1b1-c76f-4c2b-ddb0-f044b9036d86"
      },
      "execution_count": 51,
      "outputs": [
        {
          "output_type": "execute_result",
          "data": {
            "text/plain": [
              "1483421"
            ]
          },
          "metadata": {},
          "execution_count": 51
        }
      ]
    },
    {
      "cell_type": "code",
      "source": [
        "file_name2 = '20220402.json'\n",
        "date2 ='2022-04-02'\n",
        "df2 = process_log_data(path, file_name2, date2)\n",
        "df2.show()"
      ],
      "metadata": {
        "colab": {
          "base_uri": "https://localhost:8080/"
        },
        "id": "axI-uhYRaLws",
        "outputId": "727be798-99dc-492d-d7db-118ded138770"
      },
      "execution_count": 52,
      "outputs": [
        {
          "output_type": "stream",
          "name": "stdout",
          "text": [
            "+---------+-----------+----------+-------------+\n",
            "| Contract|       Type|      Date|TotalDuration|\n",
            "+---------+-----------+----------+-------------+\n",
            "|BTFD46314|Phim Truyện|2022-04-02|        12905|\n",
            "|TID018269|Phim Truyện|2022-04-02|        10602|\n",
            "|THFD16957|Phim Truyện|2022-04-02|        22486|\n",
            "|QNH003340|   Thể Thao|2022-04-02|         1282|\n",
            "|TIFD11370|Phim Truyện|2022-04-02|        16514|\n",
            "|HDFD66334|Truyền Hình|2022-04-02|          311|\n",
            "|HNH882924|Truyền Hình|2022-04-02|        86400|\n",
            "|DAH000931|   Thể Thao|2022-04-02|          580|\n",
            "|QBFD05730|Phim Truyện|2022-04-02|         3411|\n",
            "|QNFD63536|Phim Truyện|2022-04-02|        53822|\n",
            "|THFD08735|Truyền Hình|2022-04-02|        11614|\n",
            "|HNH694160|Truyền Hình|2022-04-02|          299|\n",
            "|HPFD84528|Truyền Hình|2022-04-02|          299|\n",
            "|LAFD28252|Truyền Hình|2022-04-02|          299|\n",
            "|SGH801986|Truyền Hình|2022-04-02|          288|\n",
            "|HNH628036|Truyền Hình|2022-04-02|        86400|\n",
            "|HYFD01337|   Thể Thao|2022-04-02|           72|\n",
            "|DAAAA3937|Phim Truyện|2022-04-02|        37527|\n",
            "|PYFD01226|Phim Truyện|2022-04-02|         1159|\n",
            "|HNJ086894|   Thể Thao|2022-04-02|          250|\n",
            "+---------+-----------+----------+-------------+\n",
            "only showing top 20 rows\n",
            "\n"
          ]
        }
      ]
    },
    {
      "cell_type": "code",
      "source": [
        "df2.count()"
      ],
      "metadata": {
        "colab": {
          "base_uri": "https://localhost:8080/"
        },
        "id": "fSKyGGrSa0zT",
        "outputId": "52cc4cb1-8d95-4be0-f85b-80fc4e749ad4"
      },
      "execution_count": 53,
      "outputs": [
        {
          "output_type": "execute_result",
          "data": {
            "text/plain": [
              "1470098"
            ]
          },
          "metadata": {},
          "execution_count": 53
        }
      ]
    },
    {
      "cell_type": "code",
      "source": [],
      "metadata": {
        "id": "6_rfMlPNbcVy"
      },
      "execution_count": null,
      "outputs": []
    }
  ]
}