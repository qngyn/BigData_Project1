{
 "cells": [
  {
   "cell_type": "code",
   "execution_count": 1,
   "metadata": {},
   "outputs": [],
   "source": [
    "from pyspark.sql import SparkSession\n",
    "from pyspark.sql import SQLContext\n",
    "from pyspark.sql.functions import when\n",
    "from pyspark.sql.functions import col\n",
    "from pyspark.sql.types import * \n",
    "from pyspark.sql.functions import lit\n",
    "import pyodbc\n",
    "import pandas as pd\n",
    "import pyspark.sql.functions as sf\n",
    "from pyspark.context import SparkContext\n"
   ]
  },
  {
   "cell_type": "code",
   "execution_count": 2,
   "metadata": {},
   "outputs": [],
   "source": [
    "import findspark\n",
    "findspark.init()\n"
   ]
  },
  {
   "cell_type": "code",
   "execution_count": 3,
   "metadata": {},
   "outputs": [
    {
     "name": "stderr",
     "output_type": "stream",
     "text": [
      "Setting default log level to \"WARN\".\n",
      "To adjust logging level use sc.setLogLevel(newLevel). For SparkR, use setLogLevel(newLevel).\n"
     ]
    },
    {
     "name": "stdout",
     "output_type": "stream",
     "text": [
      "22/12/29 08:51:30 WARN NativeCodeLoader: Unable to load native-hadoop library for your platform... using builtin-java classes where applicable\n"
     ]
    }
   ],
   "source": [
    "spark = SparkSession.builder.config(\"spark.driver.memory\", \"15g\").getOrCreate()"
   ]
  },
  {
   "cell_type": "code",
   "execution_count": 4,
   "metadata": {},
   "outputs": [],
   "source": [
    "def process_log_data(path,file_name,date):\n",
    "    df = spark.read.json(path+file_name)\n",
    "    df = df.select('_source.AppName','_source.Contract','_source.Mac','_source.TotalDuration')\n",
    "    df = df.withColumn('Date',lit(date))\n",
    "    df = df.withColumn('Type',\n",
    "                 when((col(\"AppName\") == 'CHANNEL') | (col(\"AppName\") =='DSHD')| (col(\"AppName\") =='KPLUS')| (col(\"AppName\") =='KPlus'), \"Dramas\")\n",
    "          .when((col(\"AppName\") == 'VOD') | (col(\"AppName\") =='FIMS_RES')| (col(\"AppName\") =='BHD_RES')| \n",
    "                 (col(\"AppName\") =='VOD_RES')| (col(\"AppName\") =='FIMS')| (col(\"AppName\") =='BHD')| (col(\"AppName\") =='DANET'), \"TV Shows\")\n",
    "          .when((col(\"AppName\") == 'RELAX'), \"Entertainment\")\n",
    "          .when((col(\"AppName\") == 'CHILD'), \"Kids\")\n",
    "          .when((col(\"AppName\") == 'SPORT'), \"Sports\")\n",
    "          .otherwise(\"Error\"))\n",
    "    df = df.select('Contract','Type','TotalDuration','Date')\n",
    "    df = df.groupBy('Contract','Type','Date').agg({'TotalDuration':'sum'}).withColumnRenamed('sum(TotalDuration)','TotalDuration')\n",
    "    return df "
   ]
  },
  {
   "cell_type": "code",
   "execution_count": 5,
   "metadata": {},
   "outputs": [],
   "source": [
    "def main_task():\n",
    "    path=\"/Users/quynhnguyen/Documents/DA classes/Big Data/Dataset/\"\n",
    "    df = process_log_data(path,\"20220401.json\",'2022-04-01')\n",
    "    for i in range(2,31):\n",
    "        day = (\"{:02d}\".format(i))\n",
    "        filename = '202204{}.json'.format(day)\n",
    "        date = '2022-04-{}'.format(day)\n",
    "        df1 = process_log_data(path,filename, date)\n",
    "        df = df.union(df1)\n",
    "    return df"
   ]
  },
  {
   "cell_type": "code",
   "execution_count": 6,
   "metadata": {},
   "outputs": [],
   "source": [
    "def process_daily_statistics(df):\n",
    "    daily_statistic = df.groupBy('Date','Type').agg({'TotalDuration':'sum','Contract':'count'}).withColumnRenamed('sum(TotalDuration)','TotalDuration').withColumnRenamed('count(Contract)','TotalUsers')\n",
    "    daily_statistic = daily_statistic.withColumn('TotalDuration',col('TotalDuration')/3600)\n",
    "    return daily_statistic\n",
    "    "
   ]
  },
  {
   "cell_type": "code",
   "execution_count": 7,
   "metadata": {},
   "outputs": [
    {
     "name": "stderr",
     "output_type": "stream",
     "text": [
      "                                                                                \r"
     ]
    },
    {
     "data": {
      "text/plain": [
       "42010590"
      ]
     },
     "execution_count": 7,
     "metadata": {},
     "output_type": "execute_result"
    }
   ],
   "source": [
    "df = main_task() \n",
    "df = df.cache()\n",
    "df.count()"
   ]
  },
  {
   "cell_type": "code",
   "execution_count": 8,
   "metadata": {},
   "outputs": [
    {
     "name": "stdout",
     "output_type": "stream",
     "text": [
      "+---------+--------+----------+-------------+\n",
      "| Contract|    Type|      Date|TotalDuration|\n",
      "+---------+--------+----------+-------------+\n",
      "|TGFD20318|  Dramas|2022-04-01|        84056|\n",
      "|BNFD55622|  Dramas|2022-04-01|         4968|\n",
      "|TVAAA0290|TV Shows|2022-04-01|         4153|\n",
      "|NTD035685|TV Shows|2022-04-01|            0|\n",
      "|HNH815050|TV Shows|2022-04-01|        15684|\n",
      "|TQFD01800|  Dramas|2022-04-01|        89152|\n",
      "|THFD12339|TV Shows|2022-04-01|        82473|\n",
      "|CTFD22053|TV Shows|2022-04-01|        20990|\n",
      "|VPFD10186|TV Shows|2022-04-01|         2953|\n",
      "|HNH385936|  Dramas|2022-04-01|        18885|\n",
      "|SGH043105|TV Shows|2022-04-01|        10273|\n",
      "|HDFD45530|  Dramas|2022-04-01|        82435|\n",
      "|HNH411694|  Dramas|2022-04-01|        54048|\n",
      "|HNH921243|TV Shows|2022-04-01|         4436|\n",
      "|SGH918630|  Dramas|2022-04-01|           38|\n",
      "|SGD406054|TV Shows|2022-04-01|        10107|\n",
      "|SLFD02698|  Dramas|2022-04-01|       131614|\n",
      "|HNH003269|TV Shows|2022-04-01|         9486|\n",
      "|SGH955709|TV Shows|2022-04-01|         1374|\n",
      "|KGD024761|  Dramas|2022-04-01|        80447|\n",
      "+---------+--------+----------+-------------+\n",
      "only showing top 20 rows\n",
      "\n"
     ]
    }
   ],
   "source": [
    "df.show()"
   ]
  },
  {
   "attachments": {},
   "cell_type": "markdown",
   "metadata": {},
   "source": [
    "## Data Checking"
   ]
  },
  {
   "cell_type": "code",
   "execution_count": 9,
   "metadata": {},
   "outputs": [
    {
     "name": "stderr",
     "output_type": "stream",
     "text": [
      "                                                                                \r"
     ]
    },
    {
     "data": {
      "text/plain": [
       "30"
      ]
     },
     "execution_count": 9,
     "metadata": {},
     "output_type": "execute_result"
    }
   ],
   "source": [
    "df.select('Date').distinct().count()"
   ]
  },
  {
   "cell_type": "code",
   "execution_count": 10,
   "metadata": {},
   "outputs": [
    {
     "name": "stderr",
     "output_type": "stream",
     "text": [
      "                                                                                \r"
     ]
    },
    {
     "name": "stdout",
     "output_type": "stream",
     "text": [
      "+--------+-----+----------+-------------+\n",
      "|Contract| Type|      Date|TotalDuration|\n",
      "+--------+-----+----------+-------------+\n",
      "|    null|Error|2022-04-08|         null|\n",
      "+--------+-----+----------+-------------+\n",
      "\n"
     ]
    }
   ],
   "source": [
    "df.filter(df.TotalDuration.isNull()).show() ##Check if any null variables"
   ]
  },
  {
   "cell_type": "code",
   "execution_count": 11,
   "metadata": {},
   "outputs": [
    {
     "name": "stderr",
     "output_type": "stream",
     "text": [
      "[Stage 653:=================================================> (2790 + 8) / 2875]\r"
     ]
    },
    {
     "name": "stdout",
     "output_type": "stream",
     "text": [
      "+--------+-----+----------+-------------+\n",
      "|Contract| Type|      Date|TotalDuration|\n",
      "+--------+-----+----------+-------------+\n",
      "|    null|Error|2022-04-08|         null|\n",
      "+--------+-----+----------+-------------+\n",
      "\n"
     ]
    },
    {
     "name": "stderr",
     "output_type": "stream",
     "text": [
      "                                                                                \r"
     ]
    }
   ],
   "source": [
    "df.filter(df.Contract.isNull()).show() ##Check if any null variables"
   ]
  },
  {
   "cell_type": "code",
   "execution_count": 12,
   "metadata": {},
   "outputs": [
    {
     "name": "stdout",
     "output_type": "stream",
     "text": [
      "+---------+--------+----------+-------------+\n",
      "|Contract |Type    |Date      |TotalDuration|\n",
      "+---------+--------+----------+-------------+\n",
      "|TGFD20318|Dramas  |2022-04-01|84056        |\n",
      "|BNFD55622|Dramas  |2022-04-01|4968         |\n",
      "|TVAAA0290|TV Shows|2022-04-01|4153         |\n",
      "|NTD035685|TV Shows|2022-04-01|0            |\n",
      "|HNH815050|TV Shows|2022-04-01|15684        |\n",
      "|TQFD01800|Dramas  |2022-04-01|89152        |\n",
      "|THFD12339|TV Shows|2022-04-01|82473        |\n",
      "|CTFD22053|TV Shows|2022-04-01|20990        |\n",
      "|VPFD10186|TV Shows|2022-04-01|2953         |\n",
      "|HNH385936|Dramas  |2022-04-01|18885        |\n",
      "|SGH043105|TV Shows|2022-04-01|10273        |\n",
      "|HDFD45530|Dramas  |2022-04-01|82435        |\n",
      "|HNH411694|Dramas  |2022-04-01|54048        |\n",
      "|HNH921243|TV Shows|2022-04-01|4436         |\n",
      "|SGH918630|Dramas  |2022-04-01|38           |\n",
      "|SGD406054|TV Shows|2022-04-01|10107        |\n",
      "|SLFD02698|Dramas  |2022-04-01|131614       |\n",
      "|HNH003269|TV Shows|2022-04-01|9486         |\n",
      "|SGH955709|TV Shows|2022-04-01|1374         |\n",
      "|KGD024761|Dramas  |2022-04-01|80447        |\n",
      "+---------+--------+----------+-------------+\n",
      "only showing top 20 rows\n",
      "\n"
     ]
    }
   ],
   "source": [
    "df = df.dropna(how=\"any\")\n",
    "df.show(truncate=False)"
   ]
  },
  {
   "cell_type": "code",
   "execution_count": 13,
   "metadata": {},
   "outputs": [
    {
     "name": "stderr",
     "output_type": "stream",
     "text": [
      "[Stage 901:==================================================>(2874 + 1) / 2875]\r"
     ]
    },
    {
     "name": "stdout",
     "output_type": "stream",
     "text": [
      "+--------+----+----+-------------+\n",
      "|Contract|Type|Date|TotalDuration|\n",
      "+--------+----+----+-------------+\n",
      "+--------+----+----+-------------+\n",
      "\n"
     ]
    },
    {
     "name": "stderr",
     "output_type": "stream",
     "text": [
      "                                                                                \r"
     ]
    }
   ],
   "source": [
    "df.filter(df.Contract.isNull()).show()"
   ]
  },
  {
   "cell_type": "code",
   "execution_count": 14,
   "metadata": {},
   "outputs": [],
   "source": [
    "daily_statistic = process_daily_statistics(df)"
   ]
  },
  {
   "cell_type": "code",
   "execution_count": 15,
   "metadata": {},
   "outputs": [
    {
     "name": "stderr",
     "output_type": "stream",
     "text": [
      "                                                                                \r"
     ]
    }
   ],
   "source": [
    "df.repartition(1).write.csv('/Users/quynhnguyen/Documents/DA classes/Big Data/Dataset/DF_Clean',header=True)"
   ]
  },
  {
   "cell_type": "code",
   "execution_count": 16,
   "metadata": {},
   "outputs": [
    {
     "name": "stderr",
     "output_type": "stream",
     "text": [
      "                                                                                \r"
     ]
    }
   ],
   "source": [
    "daily_statistic.repartition(1).write.csv('/Users/quynhnguyen/Documents/DA classes/Big Data/Dataset/Daily_Statistic',header=True)"
   ]
  },
  {
   "attachments": {},
   "cell_type": "markdown",
   "metadata": {},
   "source": [
    "## Descriptive Statistic daily"
   ]
  },
  {
   "cell_type": "code",
   "execution_count": 17,
   "metadata": {},
   "outputs": [
    {
     "name": "stderr",
     "output_type": "stream",
     "text": [
      "                                                                                \r"
     ]
    }
   ],
   "source": [
    "visual_1 = daily_statistic.toPandas()"
   ]
  },
  {
   "cell_type": "code",
   "execution_count": 18,
   "metadata": {},
   "outputs": [],
   "source": [
    "visual_1 = visual_1.sort_values(by = 'Date', ascending = True)"
   ]
  },
  {
   "cell_type": "code",
   "execution_count": 19,
   "metadata": {},
   "outputs": [
    {
     "data": {
      "text/html": [
       "<div>\n",
       "<style scoped>\n",
       "    .dataframe tbody tr th:only-of-type {\n",
       "        vertical-align: middle;\n",
       "    }\n",
       "\n",
       "    .dataframe tbody tr th {\n",
       "        vertical-align: top;\n",
       "    }\n",
       "\n",
       "    .dataframe thead th {\n",
       "        text-align: right;\n",
       "    }\n",
       "</style>\n",
       "<table border=\"1\" class=\"dataframe\">\n",
       "  <thead>\n",
       "    <tr style=\"text-align: right;\">\n",
       "      <th></th>\n",
       "      <th>Date</th>\n",
       "      <th>Type</th>\n",
       "      <th>TotalUsers</th>\n",
       "      <th>TotalDuration</th>\n",
       "    </tr>\n",
       "  </thead>\n",
       "  <tbody>\n",
       "    <tr>\n",
       "      <th>0</th>\n",
       "      <td>2022-04-01</td>\n",
       "      <td>Sports</td>\n",
       "      <td>2292</td>\n",
       "      <td>3.239550e+02</td>\n",
       "    </tr>\n",
       "    <tr>\n",
       "      <th>54</th>\n",
       "      <td>2022-04-01</td>\n",
       "      <td>Dramas</td>\n",
       "      <td>1355367</td>\n",
       "      <td>7.002872e+06</td>\n",
       "    </tr>\n",
       "    <tr>\n",
       "      <th>55</th>\n",
       "      <td>2022-04-01</td>\n",
       "      <td>Kids</td>\n",
       "      <td>33056</td>\n",
       "      <td>4.960283e+04</td>\n",
       "    </tr>\n",
       "    <tr>\n",
       "      <th>53</th>\n",
       "      <td>2022-04-01</td>\n",
       "      <td>TV Shows</td>\n",
       "      <td>86312</td>\n",
       "      <td>1.742085e+05</td>\n",
       "    </tr>\n",
       "    <tr>\n",
       "      <th>52</th>\n",
       "      <td>2022-04-01</td>\n",
       "      <td>Entertainment</td>\n",
       "      <td>6394</td>\n",
       "      <td>5.807752e+03</td>\n",
       "    </tr>\n",
       "  </tbody>\n",
       "</table>\n",
       "</div>"
      ],
      "text/plain": [
       "          Date           Type  TotalUsers  TotalDuration\n",
       "0   2022-04-01         Sports        2292   3.239550e+02\n",
       "54  2022-04-01         Dramas     1355367   7.002872e+06\n",
       "55  2022-04-01           Kids       33056   4.960283e+04\n",
       "53  2022-04-01       TV Shows       86312   1.742085e+05\n",
       "52  2022-04-01  Entertainment        6394   5.807752e+03"
      ]
     },
     "execution_count": 19,
     "metadata": {},
     "output_type": "execute_result"
    }
   ],
   "source": [
    "visual_1.head()"
   ]
  },
  {
   "cell_type": "code",
   "execution_count": 20,
   "metadata": {},
   "outputs": [],
   "source": [
    "import matplotlib.pyplot as plt\n",
    "import seaborn as sns"
   ]
  },
  {
   "cell_type": "code",
   "execution_count": 21,
   "metadata": {},
   "outputs": [
    {
     "data": {
      "image/png": "[encoded data removed]",
      "text/plain": [
       "<Figure size 1944x1080 with 1 Axes>"
      ]
     },
     "metadata": {
      "needs_background": "light"
     },
     "output_type": "display_data"
    }
   ],
   "source": [
    "plt.figure(figsize=(27, 15))\n",
    "sns.lineplot(x = 'Date', y ='TotalDuration', data = visual_1)\n",
    "plt.tight_layout()"
   ]
  },
  {
   "cell_type": "code",
   "execution_count": 22,
   "metadata": {},
   "outputs": [
    {
     "data": {
      "text/plain": [
       "<AxesSubplot:xlabel='Date', ylabel='TotalDuration'>"
      ]
     },
     "execution_count": 22,
     "metadata": {},
     "output_type": "execute_result"
    },
    {
     "data": {
      "image/png": "[encoded data removed]",
      "text/plain": [
       "<Figure size 2376x1080 with 1 Axes>"
      ]
     },
     "metadata": {
      "needs_background": "light"
     },
     "output_type": "display_data"
    }
   ],
   "source": [
    "plt.figure(figsize=(33, 15))\n",
    "sns.lineplot(data = visual_1 , x = 'Date' , y ='TotalDuration')"
   ]
  },
  {
   "cell_type": "code",
   "execution_count": 23,
   "metadata": {},
   "outputs": [
    {
     "name": "stderr",
     "output_type": "stream",
     "text": [
      "                                                                                \r"
     ]
    },
    {
     "data": {
      "text/plain": [
       "42010589"
      ]
     },
     "execution_count": 23,
     "metadata": {},
     "output_type": "execute_result"
    }
   ],
   "source": [
    "df.count()"
   ]
  },
  {
   "cell_type": "code",
   "execution_count": 24,
   "metadata": {},
   "outputs": [
    {
     "name": "stderr",
     "output_type": "stream",
     "text": [
      "                                                                                \r"
     ]
    },
    {
     "data": {
      "text/plain": [
       "42010589"
      ]
     },
     "execution_count": 24,
     "metadata": {},
     "output_type": "execute_result"
    }
   ],
   "source": [
    "df.select('Contract').count()"
   ]
  },
  {
   "cell_type": "code",
   "execution_count": 25,
   "metadata": {},
   "outputs": [
    {
     "name": "stderr",
     "output_type": "stream",
     "text": [
      "                                                                                \r"
     ]
    },
    {
     "data": {
      "text/plain": [
       "1918176"
      ]
     },
     "execution_count": 25,
     "metadata": {},
     "output_type": "execute_result"
    }
   ],
   "source": [
    "df.select('Contract').distinct().count()"
   ]
  },
  {
   "attachments": {},
   "cell_type": "markdown",
   "metadata": {},
   "source": [
    "## Individual Customer Statistics"
   ]
  },
  {
   "cell_type": "code",
   "execution_count": 26,
   "metadata": {},
   "outputs": [
    {
     "name": "stdout",
     "output_type": "stream",
     "text": [
      "root\n",
      " |-- Contract: string (nullable = true)\n",
      " |-- Type: string (nullable = false)\n",
      " |-- Date: string (nullable = false)\n",
      " |-- TotalDuration: long (nullable = true)\n",
      "\n"
     ]
    }
   ],
   "source": [
    "df.printSchema()"
   ]
  },
  {
   "cell_type": "code",
   "execution_count": 27,
   "metadata": {},
   "outputs": [],
   "source": [
    "df = df.drop('Date')"
   ]
  },
  {
   "cell_type": "code",
   "execution_count": 28,
   "metadata": {},
   "outputs": [],
   "source": [
    "df = df.groupBy('Contract','Type').agg({'TotalDuration':'sum'}).withColumnRenamed('sum(TotalDuration)','TotalDuration')"
   ]
  },
  {
   "cell_type": "code",
   "execution_count": 29,
   "metadata": {},
   "outputs": [
    {
     "name": "stderr",
     "output_type": "stream",
     "text": [
      "[Stage 1408:>                                                       (0 + 1) / 1]\r"
     ]
    },
    {
     "name": "stdout",
     "output_type": "stream",
     "text": [
      "+---------+--------+-------------+\n",
      "| Contract|    Type|TotalDuration|\n",
      "+---------+--------+-------------+\n",
      "|LAFDN0001|  Dramas|      1671609|\n",
      "|VPFD01775|  Dramas|       317524|\n",
      "|HNH341944|  Dramas|         4539|\n",
      "|HNJ100781|TV Shows|        97437|\n",
      "|HUFD03958|TV Shows|        20651|\n",
      "|HNH969358|  Dramas|       119251|\n",
      "|HNH720861|  Dramas|       657424|\n",
      "|BDFD75415|  Dramas|       960198|\n",
      "|NDFD02966|  Dramas|       893383|\n",
      "|DAFD54866|  Dramas|       757721|\n",
      "|BDFD19617|  Dramas|        60407|\n",
      "|TQFD19300|  Dramas|       121870|\n",
      "|SGD807739|  Dramas|       130803|\n",
      "|NTD041955|  Dramas|       100356|\n",
      "|TBFD30384|  Dramas|        71831|\n",
      "|HPFD78662|  Dramas|       533630|\n",
      "|SGH860251|  Dramas|      1172207|\n",
      "|NDAAA2507|  Dramas|       193008|\n",
      "|SGH656775|  Dramas|      1498866|\n",
      "|CTFD35307|  Dramas|       174508|\n",
      "+---------+--------+-------------+\n",
      "only showing top 20 rows\n",
      "\n"
     ]
    },
    {
     "name": "stderr",
     "output_type": "stream",
     "text": [
      "                                                                                \r"
     ]
    }
   ],
   "source": [
    "df.show()"
   ]
  },
  {
   "cell_type": "code",
   "execution_count": 30,
   "metadata": {},
   "outputs": [
    {
     "name": "stderr",
     "output_type": "stream",
     "text": [
      "[Stage 1471:>                                                       (0 + 1) / 1]\r"
     ]
    },
    {
     "name": "stdout",
     "output_type": "stream",
     "text": [
      "+-------------+\n",
      "|         Type|\n",
      "+-------------+\n",
      "|     TV Shows|\n",
      "|Entertainment|\n",
      "|       Sports|\n",
      "|       Dramas|\n",
      "|         Kids|\n",
      "|        Error|\n",
      "+-------------+\n",
      "\n"
     ]
    },
    {
     "name": "stderr",
     "output_type": "stream",
     "text": [
      "                                                                                \r"
     ]
    }
   ],
   "source": [
    "df.select('Type').distinct().show()"
   ]
  },
  {
   "cell_type": "code",
   "execution_count": 31,
   "metadata": {},
   "outputs": [],
   "source": [
    "df = df.filter(df.Type != 'Error')"
   ]
  },
  {
   "cell_type": "code",
   "execution_count": 32,
   "metadata": {},
   "outputs": [
    {
     "name": "stderr",
     "output_type": "stream",
     "text": [
      "[Stage 1534:>                                                       (0 + 1) / 1]\r"
     ]
    },
    {
     "name": "stdout",
     "output_type": "stream",
     "text": [
      "+-------------+\n",
      "|         Type|\n",
      "+-------------+\n",
      "|     TV Shows|\n",
      "|Entertainment|\n",
      "|       Sports|\n",
      "|       Dramas|\n",
      "|         Kids|\n",
      "+-------------+\n",
      "\n"
     ]
    },
    {
     "name": "stderr",
     "output_type": "stream",
     "text": [
      "                                                                                \r"
     ]
    }
   ],
   "source": [
    "df.select('Type').distinct().show()"
   ]
  },
  {
   "cell_type": "code",
   "execution_count": 33,
   "metadata": {},
   "outputs": [],
   "source": [
    "TVshows = df.filter(df.Type == 'TV Shows')\n",
    "Sport = df.filter(df.Type == 'Sports')\n",
    "Kids = df.filter(df.Type == 'Kids')\n",
    "Entertainment = df.filter(df.Type == 'Entertainment')\n",
    "Movie = df.filter(df.Type == 'Dramas')"
   ]
  },
  {
   "cell_type": "code",
   "execution_count": 34,
   "metadata": {},
   "outputs": [],
   "source": [
    "TVshows = TVshows.drop('Type').withColumnRenamed('TotalDuration','TVDuration')\n",
    "Sport = Sport.drop('Type').withColumnRenamed('TotalDuration','SportDuration')\n",
    "Kids = Kids.drop('Type').withColumnRenamed('TotalDuration','KidsDuration')\n",
    "Entertainment = Entertainment.drop('Type').withColumnRenamed('TotalDuration','EntertainmentDuration')\n",
    "Movie = Movie.drop('Type').withColumnRenamed('TotalDuration','MovieDuration')"
   ]
  },
  {
   "cell_type": "code",
   "execution_count": 35,
   "metadata": {},
   "outputs": [],
   "source": [
    "result = TVshows.join(Sport, ['Contract'], how='full').join(Movie,['Contract'],how ='full').join(Kids,['Contract'],how ='full').join(Entertainment,['Contract'],how ='full')"
   ]
  },
  {
   "cell_type": "code",
   "execution_count": 36,
   "metadata": {},
   "outputs": [
    {
     "name": "stderr",
     "output_type": "stream",
     "text": [
      "[Stage 1663:=====================>                                  (3 + 5) / 8]8]]]]\r"
     ]
    },
    {
     "name": "stdout",
     "output_type": "stream",
     "text": [
      "+--------------+----------+-------------+-------------+------------+--------------------+\n",
      "|      Contract|TVDuration|SportDuration|MovieDuration|KidsDuration|Entertainmenturation|\n",
      "+--------------+----------+-------------+-------------+------------+--------------------+\n",
      "|113.182.209.48|      null|         null|           63|        null|                  89|\n",
      "|14.182.110.125|      null|         null|          404|        null|                  92|\n",
      "|     AGAAA0338|      null|         null|       267694|        null|                null|\n",
      "|     AGAAA0342|      null|         null|       117788|        null|                 204|\n",
      "|     AGAAA0346|      null|         null|      2012371|        null|                null|\n",
      "|     AGAAA0353|      1665|         null|        25749|        null|                null|\n",
      "|     AGAAA0372|      null|         null|        13123|        null|                null|\n",
      "|     AGAAA0391|       129|         null|       158931|        null|                 373|\n",
      "|     AGAAA0452|      null|         null|        29764|        null|                null|\n",
      "|     AGAAA0504|        46|         null|        21299|        null|                  97|\n",
      "|     AGAAA0544|      null|         null|       155577|        null|                null|\n",
      "|     AGAAA0550|      null|         null|      2129475|        null|                null|\n",
      "|     AGAAA0555|      null|         null|       342362|        null|                null|\n",
      "|     AGAAA0576|       677|         null|       727679|        null|                null|\n",
      "|     AGAAA0593|      null|         null|         1038|        null|                null|\n",
      "|     AGAAA0608|      null|         null|         2129|        null|                null|\n",
      "|     AGAAA0613|      null|         null|         9377|        null|                  26|\n",
      "|     AGAAA0638|      null|         null|       211489|        null|                null|\n",
      "|     AGAAA0663|      null|         null|        73863|        null|                null|\n",
      "|     AGAAA0692|      null|         null|       107057|        null|                null|\n",
      "+--------------+----------+-------------+-------------+------------+--------------------+\n",
      "only showing top 20 rows\n",
      "\n"
     ]
    },
    {
     "name": "stderr",
     "output_type": "stream",
     "text": [
      "                                                                                \r"
     ]
    }
   ],
   "source": [
    "result.show()"
   ]
  },
  {
   "cell_type": "code",
   "execution_count": 37,
   "metadata": {},
   "outputs": [
    {
     "name": "stdout",
     "output_type": "stream",
     "text": [
      "root\n",
      " |-- Contract: string (nullable = true)\n",
      " |-- TVDuration: long (nullable = true)\n",
      " |-- SportDuration: long (nullable = true)\n",
      " |-- MovieDuration: long (nullable = true)\n",
      " |-- KidsDuration: long (nullable = true)\n",
      " |-- Entertainmenturation: long (nullable = true)\n",
      "\n"
     ]
    }
   ],
   "source": [
    "result.printSchema()"
   ]
  },
  {
   "cell_type": "code",
   "execution_count": 38,
   "metadata": {},
   "outputs": [
    {
     "name": "stderr",
     "output_type": "stream",
     "text": [
      "                                                                                8]]]]\r"
     ]
    }
   ],
   "source": [
    "result.coalesce(1).write.option(\"header\", \"true\").csv(\"T4Duration.csv\")"
   ]
  },
  {
   "cell_type": "code",
   "execution_count": 39,
   "metadata": {},
   "outputs": [
    {
     "name": "stderr",
     "output_type": "stream",
     "text": [
      "                                                                                7]]]]\r"
     ]
    },
    {
     "data": {
      "text/plain": [
       "1918176"
      ]
     },
     "execution_count": 39,
     "metadata": {},
     "output_type": "execute_result"
    }
   ],
   "source": [
    "result.count()"
   ]
  },
  {
   "cell_type": "code",
   "execution_count": 41,
   "metadata": {},
   "outputs": [],
   "source": [
    "from pyspark.sql.window import Window\n",
    "from pyspark.sql.functions import rank\n",
    "from pyspark.sql.functions import col "
   ]
  },
  {
   "cell_type": "code",
   "execution_count": 42,
   "metadata": {},
   "outputs": [],
   "source": [
    "window = Window.partitionBy('Contract').orderBy(col('TotalDuration').desc())"
   ]
  },
  {
   "cell_type": "code",
   "execution_count": 43,
   "metadata": {},
   "outputs": [],
   "source": [
    "rank_result = df.withColumn('RANK', rank().over(window))"
   ]
  },
  {
   "cell_type": "code",
   "execution_count": 44,
   "metadata": {},
   "outputs": [
    {
     "name": "stderr",
     "output_type": "stream",
     "text": [
      "[Stage 2161:=================================>                     (9 + 6) / 15]\r"
     ]
    },
    {
     "name": "stdout",
     "output_type": "stream",
     "text": [
      "+--------------+-------------+-------------+----+\n",
      "|      Contract|         Type|TotalDuration|RANK|\n",
      "+--------------+-------------+-------------+----+\n",
      "|113.182.209.48|Entertainment|           89|   1|\n",
      "|113.182.209.48|       Dramas|           63|   2|\n",
      "|14.182.110.125|       Dramas|          404|   1|\n",
      "|14.182.110.125|Entertainment|           92|   2|\n",
      "|14.189.124.168|       Dramas|          147|   1|\n",
      "|     AGAAA0338|       Dramas|       267694|   1|\n",
      "|     AGAAA0342|       Dramas|       117788|   1|\n",
      "|     AGAAA0342|Entertainment|          204|   2|\n",
      "|     AGAAA0346|       Dramas|      2012371|   1|\n",
      "|     AGAAA0353|       Dramas|        25749|   1|\n",
      "|     AGAAA0353|     TV Shows|         1665|   2|\n",
      "|     AGAAA0372|       Dramas|        13123|   1|\n",
      "|     AGAAA0391|       Dramas|       158931|   1|\n",
      "|     AGAAA0391|Entertainment|          373|   2|\n",
      "|     AGAAA0391|     TV Shows|          129|   3|\n",
      "|     AGAAA0452|       Dramas|        29764|   1|\n",
      "|     AGAAA0504|       Dramas|        21299|   1|\n",
      "|     AGAAA0504|Entertainment|           97|   2|\n",
      "|     AGAAA0504|     TV Shows|           46|   3|\n",
      "|     AGAAA0544|       Dramas|       155577|   1|\n",
      "+--------------+-------------+-------------+----+\n",
      "only showing top 20 rows\n",
      "\n"
     ]
    },
    {
     "name": "stderr",
     "output_type": "stream",
     "text": [
      "                                                                                \r"
     ]
    }
   ],
   "source": [
    "rank_result.show()"
   ]
  },
  {
   "cell_type": "code",
   "execution_count": 45,
   "metadata": {},
   "outputs": [],
   "source": [
    "most_watched = rank_result.filter(rank_result.RANK == '1')"
   ]
  },
  {
   "cell_type": "code",
   "execution_count": 46,
   "metadata": {},
   "outputs": [
    {
     "name": "stderr",
     "output_type": "stream",
     "text": [
      "[Stage 2257:=================================>                     (9 + 6) / 15]\r"
     ]
    },
    {
     "name": "stdout",
     "output_type": "stream",
     "text": [
      "+--------------+-------------+-------------+----+\n",
      "|      Contract|         Type|TotalDuration|RANK|\n",
      "+--------------+-------------+-------------+----+\n",
      "|113.182.209.48|Entertainment|           89|   1|\n",
      "|14.182.110.125|       Dramas|          404|   1|\n",
      "|14.189.124.168|       Dramas|          147|   1|\n",
      "|     AGAAA0338|       Dramas|       267694|   1|\n",
      "|     AGAAA0342|       Dramas|       117788|   1|\n",
      "|     AGAAA0346|       Dramas|      2012371|   1|\n",
      "|     AGAAA0353|       Dramas|        25749|   1|\n",
      "|     AGAAA0372|       Dramas|        13123|   1|\n",
      "|     AGAAA0391|       Dramas|       158931|   1|\n",
      "|     AGAAA0452|       Dramas|        29764|   1|\n",
      "|     AGAAA0504|       Dramas|        21299|   1|\n",
      "|     AGAAA0544|       Dramas|       155577|   1|\n",
      "|     AGAAA0550|       Dramas|      2129475|   1|\n",
      "|     AGAAA0555|       Dramas|       342362|   1|\n",
      "|     AGAAA0576|       Dramas|       727679|   1|\n",
      "|     AGAAA0593|       Dramas|         1038|   1|\n",
      "|     AGAAA0608|       Dramas|         2129|   1|\n",
      "|     AGAAA0613|       Dramas|         9377|   1|\n",
      "|     AGAAA0638|       Dramas|       211489|   1|\n",
      "|     AGAAA0663|       Dramas|        73863|   1|\n",
      "+--------------+-------------+-------------+----+\n",
      "only showing top 20 rows\n",
      "\n"
     ]
    },
    {
     "name": "stderr",
     "output_type": "stream",
     "text": [
      "                                                                                \r"
     ]
    }
   ],
   "source": [
    "most_watched.show()"
   ]
  },
  {
   "cell_type": "code",
   "execution_count": 47,
   "metadata": {},
   "outputs": [],
   "source": [
    "most_watched = most_watched.drop('TotalDuration', 'RANK').withColumnRenamed('Type', 'Most Watch')"
   ]
  },
  {
   "cell_type": "code",
   "execution_count": 48,
   "metadata": {},
   "outputs": [],
   "source": [
    "habit = result.join(most_watched, ['Contract'], how = 'inner')"
   ]
  },
  {
   "cell_type": "code",
   "execution_count": 49,
   "metadata": {},
   "outputs": [
    {
     "name": "stderr",
     "output_type": "stream",
     "text": [
      "[Stage 2436:>                                                       (0 + 8) / 8]8]]]]\r"
     ]
    },
    {
     "name": "stdout",
     "output_type": "stream",
     "text": [
      "+--------------+----------+-------------+-------------+------------+--------------------+-------------+\n",
      "|      Contract|TVDuration|SportDuration|MovieDuration|KidsDuration|Entertainmenturation|   Most Watch|\n",
      "+--------------+----------+-------------+-------------+------------+--------------------+-------------+\n",
      "|113.182.209.48|      null|         null|           63|        null|                  89|Entertainment|\n",
      "|14.182.110.125|      null|         null|          404|        null|                  92|       Dramas|\n",
      "|14.189.124.168|      null|         null|          147|        null|                null|       Dramas|\n",
      "|     AGAAA0338|      null|         null|       267694|        null|                null|       Dramas|\n",
      "|     AGAAA0342|      null|         null|       117788|        null|                 204|       Dramas|\n",
      "|     AGAAA0346|      null|         null|      2012371|        null|                null|       Dramas|\n",
      "|     AGAAA0353|      1665|         null|        25749|        null|                null|       Dramas|\n",
      "|     AGAAA0372|      null|         null|        13123|        null|                null|       Dramas|\n",
      "|     AGAAA0391|       129|         null|       158931|        null|                 373|       Dramas|\n",
      "|     AGAAA0452|      null|         null|        29764|        null|                null|       Dramas|\n",
      "|     AGAAA0504|        46|         null|        21299|        null|                  97|       Dramas|\n",
      "|     AGAAA0544|      null|         null|       155577|        null|                null|       Dramas|\n",
      "|     AGAAA0550|      null|         null|      2129475|        null|                null|       Dramas|\n",
      "|     AGAAA0555|      null|         null|       342362|        null|                null|       Dramas|\n",
      "|     AGAAA0576|       677|         null|       727679|        null|                null|       Dramas|\n",
      "|     AGAAA0593|      null|         null|         1038|        null|                null|       Dramas|\n",
      "|     AGAAA0608|      null|         null|         2129|        null|                null|       Dramas|\n",
      "|     AGAAA0613|      null|         null|         9377|        null|                  26|       Dramas|\n",
      "|     AGAAA0638|      null|         null|       211489|        null|                null|       Dramas|\n",
      "|     AGAAA0663|      null|         null|        73863|        null|                null|       Dramas|\n",
      "+--------------+----------+-------------+-------------+------------+--------------------+-------------+\n",
      "only showing top 20 rows\n",
      "\n"
     ]
    },
    {
     "name": "stderr",
     "output_type": "stream",
     "text": [
      "                                                                                \r"
     ]
    },
    {
     "name": "stdout",
     "output_type": "stream",
     "text": [
      "22/12/29 18:21:32 WARN HeartbeatReceiver: Removing executor driver with no recent heartbeats: 952104 ms exceeds timeout 120000 ms\n",
      "22/12/29 18:21:32 WARN SparkContext: Killing executors is not supported by current scheduler.\n"
     ]
    }
   ],
   "source": [
    "habit.show()"
   ]
  },
  {
   "cell_type": "code",
   "execution_count": null,
   "metadata": {},
   "outputs": [],
   "source": []
  }
 ],
 "metadata": {
  "kernelspec": {
   "display_name": "Python 3.9.12 ('base')",
   "language": "python",
   "name": "python3"
  },
  "language_info": {
   "codemirror_mode": {
    "name": "ipython",
    "version": 3
   },
   "file_extension": ".py",
   "mimetype": "text/x-python",
   "name": "python",
   "nbconvert_exporter": "python",
   "pygments_lexer": "ipython3",
   "version": "3.9.12"
  },
  "orig_nbformat": 4,
  "vscode": {
   "interpreter": {
    "hash": "ddd85af2f965247f103f0f58758c76b413f1ff8cf991da43cb2eac04565416c3"
   }
  }
 },
 "nbformat": 4,
 "nbformat_minor": 2
}
